{
 "cells": [
  {
   "cell_type": "code",
   "execution_count": 5,
   "metadata": {},
   "outputs": [],
   "source": [
    "list = {\"timeseries\":{\"129838\":{\"fecha1\":{\"v\":\"3.0\"},\"fecha2\":{\"v\":\"3.0\"},\"fecha3\":{\"v\":\"3.0\"}},\"132521\":{\"fecha4\":{\"v\":\"3.0\"},\"fecha5\":{\"v\":\"3.0\"},\"fecha6\":{\"v\":\"3.0\"}}}}"
   ]
  },
  {
   "cell_type": "code",
   "execution_count": 9,
   "metadata": {},
   "outputs": [
    {
     "data": {
      "text/html": [
       "<div>\n",
       "<style scoped>\n",
       "    .dataframe tbody tr th:only-of-type {\n",
       "        vertical-align: middle;\n",
       "    }\n",
       "\n",
       "    .dataframe tbody tr th {\n",
       "        vertical-align: top;\n",
       "    }\n",
       "\n",
       "    .dataframe thead th {\n",
       "        text-align: right;\n",
       "    }\n",
       "</style>\n",
       "<table border=\"1\" class=\"dataframe\">\n",
       "  <thead>\n",
       "    <tr style=\"text-align: right;\">\n",
       "      <th></th>\n",
       "      <th>timeseries.129838.fecha1.v</th>\n",
       "      <th>timeseries.129838.fecha2.v</th>\n",
       "      <th>timeseries.129838.fecha3.v</th>\n",
       "      <th>timeseries.132521.fecha4.v</th>\n",
       "      <th>timeseries.132521.fecha5.v</th>\n",
       "      <th>timeseries.132521.fecha6.v</th>\n",
       "    </tr>\n",
       "  </thead>\n",
       "  <tbody>\n",
       "    <tr>\n",
       "      <th>0</th>\n",
       "      <td>3.0</td>\n",
       "      <td>3.0</td>\n",
       "      <td>3.0</td>\n",
       "      <td>3.0</td>\n",
       "      <td>3.0</td>\n",
       "      <td>3.0</td>\n",
       "    </tr>\n",
       "  </tbody>\n",
       "</table>\n",
       "</div>"
      ],
      "text/plain": [
       "  timeseries.129838.fecha1.v timeseries.129838.fecha2.v  \\\n",
       "0                        3.0                        3.0   \n",
       "\n",
       "  timeseries.129838.fecha3.v timeseries.132521.fecha4.v  \\\n",
       "0                        3.0                        3.0   \n",
       "\n",
       "  timeseries.132521.fecha5.v timeseries.132521.fecha6.v  \n",
       "0                        3.0                        3.0  "
      ]
     },
     "execution_count": 9,
     "metadata": {},
     "output_type": "execute_result"
    }
   ],
   "source": [
    "import pandas as pd\n",
    "df = pd.json_normalize(list)\n",
    "df"
   ]
  },
  {
   "cell_type": "code",
   "execution_count": 20,
   "metadata": {},
   "outputs": [
    {
     "data": {
      "text/html": [
       "<div>\n",
       "<style scoped>\n",
       "    .dataframe tbody tr th:only-of-type {\n",
       "        vertical-align: middle;\n",
       "    }\n",
       "\n",
       "    .dataframe tbody tr th {\n",
       "        vertical-align: top;\n",
       "    }\n",
       "\n",
       "    .dataframe thead th {\n",
       "        text-align: right;\n",
       "    }\n",
       "</style>\n",
       "<table border=\"1\" class=\"dataframe\">\n",
       "  <thead>\n",
       "    <tr style=\"text-align: right;\">\n",
       "      <th></th>\n",
       "      <th>column1</th>\n",
       "      <th>values</th>\n",
       "    </tr>\n",
       "  </thead>\n",
       "  <tbody>\n",
       "    <tr>\n",
       "      <th>0</th>\n",
       "      <td>timeseries.129838.fecha1.v</td>\n",
       "      <td>3.0</td>\n",
       "    </tr>\n",
       "    <tr>\n",
       "      <th>1</th>\n",
       "      <td>timeseries.129838.fecha2.v</td>\n",
       "      <td>3.0</td>\n",
       "    </tr>\n",
       "    <tr>\n",
       "      <th>2</th>\n",
       "      <td>timeseries.129838.fecha3.v</td>\n",
       "      <td>3.0</td>\n",
       "    </tr>\n",
       "    <tr>\n",
       "      <th>3</th>\n",
       "      <td>timeseries.132521.fecha4.v</td>\n",
       "      <td>3.0</td>\n",
       "    </tr>\n",
       "    <tr>\n",
       "      <th>4</th>\n",
       "      <td>timeseries.132521.fecha5.v</td>\n",
       "      <td>3.0</td>\n",
       "    </tr>\n",
       "    <tr>\n",
       "      <th>5</th>\n",
       "      <td>timeseries.132521.fecha6.v</td>\n",
       "      <td>3.0</td>\n",
       "    </tr>\n",
       "  </tbody>\n",
       "</table>\n",
       "</div>"
      ],
      "text/plain": [
       "                      column1 values\n",
       "0  timeseries.129838.fecha1.v    3.0\n",
       "1  timeseries.129838.fecha2.v    3.0\n",
       "2  timeseries.129838.fecha3.v    3.0\n",
       "3  timeseries.132521.fecha4.v    3.0\n",
       "4  timeseries.132521.fecha5.v    3.0\n",
       "5  timeseries.132521.fecha6.v    3.0"
      ]
     },
     "execution_count": 20,
     "metadata": {},
     "output_type": "execute_result"
    }
   ],
   "source": [
    "df_pivotado = pd.melt(df, var_name='column1', value_name='values')\n",
    "df_pivotado"
   ]
  },
  {
   "cell_type": "code",
   "execution_count": 21,
   "metadata": {},
   "outputs": [
    {
     "data": {
      "text/html": [
       "<div>\n",
       "<style scoped>\n",
       "    .dataframe tbody tr th:only-of-type {\n",
       "        vertical-align: middle;\n",
       "    }\n",
       "\n",
       "    .dataframe tbody tr th {\n",
       "        vertical-align: top;\n",
       "    }\n",
       "\n",
       "    .dataframe thead th {\n",
       "        text-align: right;\n",
       "    }\n",
       "</style>\n",
       "<table border=\"1\" class=\"dataframe\">\n",
       "  <thead>\n",
       "    <tr style=\"text-align: right;\">\n",
       "      <th></th>\n",
       "      <th>column1</th>\n",
       "      <th>values</th>\n",
       "      <th>timeseries</th>\n",
       "      <th>numero</th>\n",
       "      <th>fecha</th>\n",
       "      <th>v</th>\n",
       "    </tr>\n",
       "  </thead>\n",
       "  <tbody>\n",
       "    <tr>\n",
       "      <th>0</th>\n",
       "      <td>timeseries.129838.fecha1.v</td>\n",
       "      <td>3.0</td>\n",
       "      <td>timeseries</td>\n",
       "      <td>129838</td>\n",
       "      <td>fecha1</td>\n",
       "      <td>v</td>\n",
       "    </tr>\n",
       "    <tr>\n",
       "      <th>1</th>\n",
       "      <td>timeseries.129838.fecha2.v</td>\n",
       "      <td>3.0</td>\n",
       "      <td>timeseries</td>\n",
       "      <td>129838</td>\n",
       "      <td>fecha2</td>\n",
       "      <td>v</td>\n",
       "    </tr>\n",
       "    <tr>\n",
       "      <th>2</th>\n",
       "      <td>timeseries.129838.fecha3.v</td>\n",
       "      <td>3.0</td>\n",
       "      <td>timeseries</td>\n",
       "      <td>129838</td>\n",
       "      <td>fecha3</td>\n",
       "      <td>v</td>\n",
       "    </tr>\n",
       "    <tr>\n",
       "      <th>3</th>\n",
       "      <td>timeseries.132521.fecha4.v</td>\n",
       "      <td>3.0</td>\n",
       "      <td>timeseries</td>\n",
       "      <td>132521</td>\n",
       "      <td>fecha4</td>\n",
       "      <td>v</td>\n",
       "    </tr>\n",
       "    <tr>\n",
       "      <th>4</th>\n",
       "      <td>timeseries.132521.fecha5.v</td>\n",
       "      <td>3.0</td>\n",
       "      <td>timeseries</td>\n",
       "      <td>132521</td>\n",
       "      <td>fecha5</td>\n",
       "      <td>v</td>\n",
       "    </tr>\n",
       "    <tr>\n",
       "      <th>5</th>\n",
       "      <td>timeseries.132521.fecha6.v</td>\n",
       "      <td>3.0</td>\n",
       "      <td>timeseries</td>\n",
       "      <td>132521</td>\n",
       "      <td>fecha6</td>\n",
       "      <td>v</td>\n",
       "    </tr>\n",
       "  </tbody>\n",
       "</table>\n",
       "</div>"
      ],
      "text/plain": [
       "                      column1 values  timeseries  numero   fecha  v\n",
       "0  timeseries.129838.fecha1.v    3.0  timeseries  129838  fecha1  v\n",
       "1  timeseries.129838.fecha2.v    3.0  timeseries  129838  fecha2  v\n",
       "2  timeseries.129838.fecha3.v    3.0  timeseries  129838  fecha3  v\n",
       "3  timeseries.132521.fecha4.v    3.0  timeseries  132521  fecha4  v\n",
       "4  timeseries.132521.fecha5.v    3.0  timeseries  132521  fecha5  v\n",
       "5  timeseries.132521.fecha6.v    3.0  timeseries  132521  fecha6  v"
      ]
     },
     "execution_count": 21,
     "metadata": {},
     "output_type": "execute_result"
    }
   ],
   "source": [
    "df_pivotado[['timeseries','numero','fecha','v']]= df_pivotado['column1'].str.split('.',-1,expand=True)\n",
    "df_pivotado"
   ]
  }
 ],
 "metadata": {
  "kernelspec": {
   "display_name": "Python 3.10.5 64-bit",
   "language": "python",
   "name": "python3"
  },
  "language_info": {
   "codemirror_mode": {
    "name": "ipython",
    "version": 3
   },
   "file_extension": ".py",
   "mimetype": "text/x-python",
   "name": "python",
   "nbconvert_exporter": "python",
   "pygments_lexer": "ipython3",
   "version": "3.10.5"
  },
  "orig_nbformat": 4,
  "vscode": {
   "interpreter": {
    "hash": "08c75266b9320adf560f1e59c07f83eee2fff4f0e1c37fb95bfe2a588eaa51f6"
   }
  }
 },
 "nbformat": 4,
 "nbformat_minor": 2
}
